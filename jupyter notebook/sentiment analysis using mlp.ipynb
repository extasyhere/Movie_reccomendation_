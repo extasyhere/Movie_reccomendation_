{
 "cells": [
  {
   "cell_type": "code",
   "execution_count": 1,
   "id": "bcd7307d",
   "metadata": {},
   "outputs": [],
   "source": [
    "from keras.datasets import imdb\n",
    "import numpy as np"
   ]
  },
  {
   "cell_type": "code",
   "execution_count": 2,
   "id": "31e57eed",
   "metadata": {},
   "outputs": [],
   "source": [
    "((XT,YT),(Xt,Yt))=imdb.load_data(num_words=10000)"
   ]
  },
  {
   "cell_type": "code",
   "execution_count": 3,
   "id": "8a512346",
   "metadata": {},
   "outputs": [],
   "source": [
    "word_idx=imdb.get_word_index()"
   ]
  },
  {
   "cell_type": "code",
   "execution_count": 4,
   "id": "0d10af9f",
   "metadata": {},
   "outputs": [],
   "source": [
    "idx_word=dict([value,key] for (key,value) in word_idx.items())"
   ]
  },
  {
   "cell_type": "code",
   "execution_count": 5,
   "id": "23f45ea0",
   "metadata": {},
   "outputs": [],
   "source": [
    "actual_review=' '.join([idx_word.get(idx-3,'?') for idx in XT[0]])"
   ]
  },
  {
   "cell_type": "code",
   "execution_count": 6,
   "id": "137cbf2c",
   "metadata": {},
   "outputs": [],
   "source": [
    "#VECTORIZATION"
   ]
  },
  {
   "cell_type": "code",
   "execution_count": 7,
   "id": "a99ae675",
   "metadata": {},
   "outputs": [],
   "source": [
    "def vectorize(sentences,dim=10000):\n",
    "    outputs=np.zeros((len(sentences),dim)) \n",
    "    \n",
    "    for i,idx in enumerate(sentences):\n",
    "        outputs[i,idx]=1\n",
    "    return outputs"
   ]
  },
  {
   "cell_type": "code",
   "execution_count": 29,
   "id": "43bfb119",
   "metadata": {},
   "outputs": [],
   "source": [
    "import pickle\n",
    "pickle.dump(vectorize, open('convert_to_vector.pkl', 'wb'))"
   ]
  },
  {
   "cell_type": "code",
   "execution_count": 8,
   "id": "ac4ae0de",
   "metadata": {},
   "outputs": [],
   "source": [
    "X_train=vectorize(XT)\n",
    "X_test=vectorize(Xt)"
   ]
  },
  {
   "cell_type": "markdown",
   "id": "8f67d484",
   "metadata": {},
   "source": [
    "MODEL ARCHITECTURE"
   ]
  },
  {
   "cell_type": "code",
   "execution_count": 9,
   "id": "fb804126",
   "metadata": {},
   "outputs": [],
   "source": [
    "# USE RELU Activation\n",
    "# 2 hidden layers 16 units\n",
    "# 1 output layer with 1 unit (Sigmoid Activation)"
   ]
  },
  {
   "cell_type": "code",
   "execution_count": 10,
   "id": "a6badbd5",
   "metadata": {},
   "outputs": [],
   "source": [
    "from keras import models\n",
    "from keras.layers import Dense"
   ]
  },
  {
   "cell_type": "code",
   "execution_count": 11,
   "id": "1165405f",
   "metadata": {},
   "outputs": [],
   "source": [
    "model=models.Sequential()\n",
    "model.add(Dense(16,activation='relu',input_shape=(10000,)))\n",
    "model.add(Dense(16,activation='relu'))\n",
    "model.add(Dense(1,activation='sigmoid'))"
   ]
  },
  {
   "cell_type": "code",
   "execution_count": 12,
   "id": "94be09eb",
   "metadata": {},
   "outputs": [
    {
     "name": "stdout",
     "output_type": "stream",
     "text": [
      "Model: \"sequential\"\n",
      "_________________________________________________________________\n",
      " Layer (type)                Output Shape              Param #   \n",
      "=================================================================\n",
      " dense (Dense)               (None, 16)                160016    \n",
      "                                                                 \n",
      " dense_1 (Dense)             (None, 16)                272       \n",
      "                                                                 \n",
      " dense_2 (Dense)             (None, 1)                 17        \n",
      "                                                                 \n",
      "=================================================================\n",
      "Total params: 160,305\n",
      "Trainable params: 160,305\n",
      "Non-trainable params: 0\n",
      "_________________________________________________________________\n"
     ]
    }
   ],
   "source": [
    "model.compile(optimizer='rmsprop',loss='binary_crossentropy',metrics=['accuracy'])\n",
    "model.summary()"
   ]
  },
  {
   "cell_type": "markdown",
   "id": "8d244923",
   "metadata": {},
   "source": [
    "TRAINING MODEL"
   ]
  },
  {
   "cell_type": "code",
   "execution_count": 13,
   "id": "79c5dd37",
   "metadata": {},
   "outputs": [],
   "source": [
    "#we will use early stopping method to avoid overfitting"
   ]
  },
  {
   "cell_type": "code",
   "execution_count": 14,
   "id": "1476ce6b",
   "metadata": {},
   "outputs": [],
   "source": [
    "x_val=X_train[:5000]\n",
    "x_train_new=X_train[5000:]\n",
    "\n",
    "y_val=YT[:5000]\n",
    "y_train_new=YT[5000:]"
   ]
  },
  {
   "cell_type": "code",
   "execution_count": 15,
   "id": "357542ae",
   "metadata": {},
   "outputs": [
    {
     "name": "stdout",
     "output_type": "stream",
     "text": [
      "Epoch 1/4\n",
      "40/40 [==============================] - 1s 19ms/step - loss: 0.5010 - accuracy: 0.7965 - val_loss: 0.3699 - val_accuracy: 0.8676\n",
      "Epoch 2/4\n",
      "40/40 [==============================] - 0s 11ms/step - loss: 0.3003 - accuracy: 0.8990 - val_loss: 0.3165 - val_accuracy: 0.8690\n",
      "Epoch 3/4\n",
      "40/40 [==============================] - 0s 11ms/step - loss: 0.2284 - accuracy: 0.9209 - val_loss: 0.2718 - val_accuracy: 0.8924\n",
      "Epoch 4/4\n",
      "40/40 [==============================] - 0s 11ms/step - loss: 0.1852 - accuracy: 0.9344 - val_loss: 0.2875 - val_accuracy: 0.8864\n"
     ]
    }
   ],
   "source": [
    "hist=model.fit(x_train_new,y_train_new,epochs=4,batch_size=512,validation_data=(x_val,y_val))"
   ]
  },
  {
   "cell_type": "code",
   "execution_count": 16,
   "id": "7dea5d5f",
   "metadata": {},
   "outputs": [],
   "source": [
    "with open(\"model.json\",'w') as file:\n",
    "    file.write(model.to_json())\n",
    "model.save_weights('model.h5')"
   ]
  },
  {
   "cell_type": "code",
   "execution_count": 17,
   "id": "f00ae6cc",
   "metadata": {},
   "outputs": [],
   "source": [
    "import matplotlib.pyplot as plt"
   ]
  },
  {
   "cell_type": "code",
   "execution_count": 18,
   "id": "9d4efb44",
   "metadata": {},
   "outputs": [
    {
     "data": {
      "image/png": "[encoded data removed]",
      "text/plain": [
       "<Figure size 432x288 with 1 Axes>"
      ]
     },
     "metadata": {
      "needs_background": "light"
     },
     "output_type": "display_data"
    }
   ],
   "source": [
    "plt.plot(hist.history['val_loss'],label=\"Validation Loss\")\n",
    "plt.plot(hist.history['loss'],label=\"Training Loss\")\n",
    "plt.legend()\n",
    "plt.show()"
   ]
  },
  {
   "cell_type": "code",
   "execution_count": 19,
   "id": "f148058b",
   "metadata": {},
   "outputs": [
    {
     "data": {
      "image/png": "[encoded data removed]",
      "text/plain": [
       "<Figure size 432x288 with 1 Axes>"
      ]
     },
     "metadata": {
      "needs_background": "light"
     },
     "output_type": "display_data"
    }
   ],
   "source": [
    "plt.plot(hist.history['val_accuracy'],label=\"Validation Accuracy\")\n",
    "plt.plot(hist.history['accuracy'],label=\"Training Accuracy\")\n",
    "plt.legend()\n",
    "plt.show()"
   ]
  },
  {
   "cell_type": "code",
   "execution_count": 20,
   "id": "ccf99098",
   "metadata": {},
   "outputs": [],
   "source": [
    "#Validation accuracy decreases after 4 epochs"
   ]
  },
  {
   "cell_type": "code",
   "execution_count": 21,
   "id": "6f12ef74",
   "metadata": {},
   "outputs": [
    {
     "name": "stdout",
     "output_type": "stream",
     "text": [
      "782/782 [==============================] - 2s 2ms/step - loss: 0.3083 - accuracy: 0.8748\n"
     ]
    },
    {
     "data": {
      "text/plain": [
       "[0.30825871229171753, 0.8748400211334229]"
      ]
     },
     "execution_count": 21,
     "metadata": {},
     "output_type": "execute_result"
    }
   ],
   "source": [
    "model.evaluate(X_test,Yt)"
   ]
  },
  {
   "cell_type": "code",
   "execution_count": 22,
   "id": "ce53238c",
   "metadata": {},
   "outputs": [],
   "source": [
    "#on the test set we are getting 88.17% Accuracy"
   ]
  },
  {
   "cell_type": "code",
   "execution_count": 23,
   "id": "e22f4a92",
   "metadata": {},
   "outputs": [
    {
     "name": "stdout",
     "output_type": "stream",
     "text": [
      "625/625 [==============================] - 1s 2ms/step - loss: 0.1631 - accuracy: 0.9458\n"
     ]
    },
    {
     "data": {
      "text/plain": [
       "[0.16312243044376373, 0.9458000063896179]"
      ]
     },
     "execution_count": 23,
     "metadata": {},
     "output_type": "execute_result"
    }
   ],
   "source": [
    "model.evaluate(x_train_new,y_train_new)"
   ]
  },
  {
   "cell_type": "code",
   "execution_count": 24,
   "id": "86e0dc79",
   "metadata": {},
   "outputs": [],
   "source": [
    "#We get 94% accuracy"
   ]
  },
  {
   "cell_type": "code",
   "execution_count": null,
   "id": "a66f922e",
   "metadata": {},
   "outputs": [],
   "source": []
  }
 ],
 "metadata": {
  "kernelspec": {
   "display_name": "Python 3 (ipykernel)",
   "language": "python",
   "name": "python3"
  },
  "language_info": {
   "codemirror_mode": {
    "name": "ipython",
    "version": 3
   },
   "file_extension": ".py",
   "mimetype": "text/x-python",
   "name": "python",
   "nbconvert_exporter": "python",
   "pygments_lexer": "ipython3",
   "version": "3.9.12"
  }
 },
 "nbformat": 4,
 "nbformat_minor": 5
}
